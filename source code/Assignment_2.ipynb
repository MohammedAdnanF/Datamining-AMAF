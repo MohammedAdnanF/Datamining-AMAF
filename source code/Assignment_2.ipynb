{
  "nbformat": 4,
  "nbformat_minor": 0,
  "metadata": {
    "colab": {
      "name": "Assignment 2.ipynb",
      "provenance": []
    },
    "kernelspec": {
      "name": "python3",
      "display_name": "Python 3"
    },
    "language_info": {
      "name": "python"
    }
  },
  "cells": [
    {
      "cell_type": "code",
      "metadata": {
        "id": "hUVo9OfM_MrW"
      },
      "source": [
        "# importing pandas library.\n",
        "import pandas as pd"
      ],
      "execution_count": null,
      "outputs": []
    },
    {
      "cell_type": "markdown",
      "metadata": {
        "id": "kG2s1GCg_gdL"
      },
      "source": [
        "# Setup Commands"
      ]
    },
    {
      "cell_type": "code",
      "metadata": {
        "id": "cYFkpyxj_eZs"
      },
      "source": [
        "# reading a 'csv file'.\n",
        "marvel_df = pd.read_csv('drive/MyDrive/Data mining/Datasets/marvel_characters_info.xls')\n",
        "\n",
        "# set the 'ID' column as an index of the dataset\n",
        "marvel_df.set_index('ID', inplace=True) # 'inplace=True' override the original dataset with the changes\n",
        "\n",
        "# Simple handling \n",
        "marvel_df.drop_duplicates(inplace=True) # Remove duplicates if exist (found one duplicate)\n",
        "# marvel_df.fillna('unknown', inplace=True) # Fill missing value\n",
        "marvel_df"
      ],
      "execution_count": null,
      "outputs": []
    },
    {
      "cell_type": "markdown",
      "metadata": {
        "id": "SaTrvmo1Apst"
      },
      "source": [
        "# Conditional selections"
      ]
    },
    {
      "cell_type": "code",
      "metadata": {
        "id": "kvcO2W7XA_mt"
      },
      "source": [
        "marvel_df[marvel_df['EyeColor'] == 'blue'] # return all characters wiht blue eye color"
      ],
      "execution_count": null,
      "outputs": []
    },
    {
      "cell_type": "code",
      "metadata": {
        "id": "aDR7mpuXBUQS"
      },
      "source": [
        "# selection with logical 'or' condition\n",
        "marvel_df[(marvel_df['EyeColor'] == 'blue') | (marvel_df['EyeColor'] == 'green')]"
      ],
      "execution_count": null,
      "outputs": []
    },
    {
      "cell_type": "code",
      "metadata": {
        "id": "KUmcdWPxBwxU"
      },
      "source": [
        "# selection with logical 'and' condition\n",
        "marvel_df[(marvel_df['EyeColor'] == 'blue') & (marvel_df['HairColor'] == 'White')]"
      ],
      "execution_count": null,
      "outputs": []
    },
    {
      "cell_type": "code",
      "metadata": {
        "id": "DvTjeDEsEUgo"
      },
      "source": [
        "# make a selection from a concise list that contains specific values  \n",
        "marvel_df[marvel_df['Publisher'].isin(['Dark Horse Comics', 'George Lucas', 'DC Comics'])]"
      ],
      "execution_count": null,
      "outputs": []
    },
    {
      "cell_type": "code",
      "metadata": {
        "id": "fAfQk23AGeUE"
      },
      "source": [
        "# select characters with height between 185 and 200\n",
        "marvel_df[(marvel_df['Height'] >= 185.0) & (marvel_df['Height'] <= 200.0)]"
      ],
      "execution_count": null,
      "outputs": []
    },
    {
      "cell_type": "markdown",
      "metadata": {
        "id": "azPT3guRx3NC"
      },
      "source": [
        "# Groupby - Astype"
      ]
    },
    {
      "cell_type": "code",
      "metadata": {
        "id": "1xbK5CrLx-uU"
      },
      "source": [
        "marvel_df.groupby('Gender').Height.max() # return the tallest character followed by gender "
      ],
      "execution_count": null,
      "outputs": []
    },
    {
      "cell_type": "code",
      "metadata": {
        "id": "HkQysbE4zqhi"
      },
      "source": [
        "marvel_df['Weight'].astype('str') # convert the data type from float64 to string"
      ],
      "execution_count": null,
      "outputs": []
    },
    {
      "cell_type": "markdown",
      "metadata": {
        "id": "jPIebRR8nqYe"
      },
      "source": [
        "# Lambda"
      ]
    },
    {
      "cell_type": "code",
      "metadata": {
        "id": "TB9TNVGxnvzt"
      },
      "source": [
        "# trying the lambda with aplly\n",
        "marvel_df[\"Height_category\"] = marvel_df[\"Height\"].apply(lambda H: 'tall' if H >= 170 else 'short')\n",
        "marvel_df"
      ],
      "execution_count": null,
      "outputs": []
    },
    {
      "cell_type": "markdown",
      "metadata": {
        "id": "f-II2gxct2SZ"
      },
      "source": [
        "# Plotting"
      ]
    },
    {
      "cell_type": "code",
      "metadata": {
        "id": "j4ZK3LAmt5UB"
      },
      "source": [
        "marvel_df.plot(kind='scatter', x='Height', y='Weight', title='Height & Weight'); # maybe we wanna see the relationship between 2 columns"
      ],
      "execution_count": null,
      "outputs": []
    },
    {
      "cell_type": "code",
      "metadata": {
        "id": "ZEjnte1uvbKg"
      },
      "source": [
        "marvel_df['Weight'].plot(kind='hist', title='Weight'); # 'hist': Histogram"
      ],
      "execution_count": null,
      "outputs": []
    },
    {
      "cell_type": "code",
      "metadata": {
        "id": "hLit2NV8v2wM"
      },
      "source": [
        "marvel_df['Height'].plot(kind=\"box\");"
      ],
      "execution_count": null,
      "outputs": []
    },
    {
      "cell_type": "markdown",
      "metadata": {
        "id": "8GP6WNGx4wHB"
      },
      "source": [
        "---\n",
        "# Another Dataset \n",
        "---"
      ]
    },
    {
      "cell_type": "markdown",
      "metadata": {
        "id": "gxnBwpFTBFRx"
      },
      "source": [
        "# Setup Commands"
      ]
    },
    {
      "cell_type": "code",
      "metadata": {
        "id": "bgFB4GC25BPV"
      },
      "source": [
        "# reading a 'csv file'.\n",
        "student_df = pd.read_csv('drive/MyDrive/Data mining/Datasets/student_marks.csv')\n",
        "\n",
        "student_df.rename(columns = {'Unnamed: 0':'first_name'}, inplace=True) # Rename the first column\n",
        "# set the 'first_name' column as an index of the dataset\n",
        "student_df.set_index('first_name', inplace=True) # 'inplace=True' means modify the original dataset with the changes\n",
        "student_df.fillna(0, inplace=True) # fill the missing\n",
        "student_df"
      ],
      "execution_count": null,
      "outputs": []
    },
    {
      "cell_type": "markdown",
      "metadata": {
        "id": "it1fU3fuIaUU"
      },
      "source": [
        "# Apply Functions - Combine datasets\n",
        "محاولة مرهقة لحساب المعدل وارفاق التقدير لكل طالب"
      ]
    },
    {
      "cell_type": "markdown",
      "metadata": {
        "id": "xlwQunmbj6Yt"
      },
      "source": [
        "**1- calc average**"
      ]
    },
    {
      "cell_type": "code",
      "metadata": {
        "id": "RGGD4UY0Iei7"
      },
      "source": [
        "def is_num(val):\n",
        "    try:\n",
        "        float(val)\n",
        "        return True\n",
        "    except ValueError:\n",
        "        return False\n",
        "  \n",
        "\n",
        "def average_calculation():\n",
        "    dic = {'first_name': [], 'Average': []}\n",
        "    for r in student_df.index:\n",
        "        sum = 0\n",
        "        count = 0\n",
        "        for c in range(9):\n",
        "            if is_num(student_df.loc[r][c]):\n",
        "              sum += student_df.loc[r][c]\n",
        "              count += 1\n",
        "        dic['first_name'].append(r)\n",
        "        dic['Average'].append(sum/count)\n",
        "    return dic\n",
        "\n",
        "\n",
        "average = pd.DataFrame(average_calculation()) # convert form dictionary to dataframe\n",
        "average.set_index('first_name', inplace=True)\n",
        "student_df = pd.merge(student_df, average, how='left', on='first_name') # Combine two Datasets"
      ],
      "execution_count": null,
      "outputs": []
    },
    {
      "cell_type": "markdown",
      "metadata": {
        "id": "Rr3sYa3EjuoF"
      },
      "source": [
        "**2- add Grade**"
      ]
    },
    {
      "cell_type": "code",
      "metadata": {
        "colab": {
          "base_uri": "https://localhost:8080/",
          "height": 238
        },
        "id": "vdhHqb9UkMt2",
        "outputId": "31955017-50f5-427e-e3d6-7ba843d1b0d7"
      },
      "source": [
        "def grade(x):\n",
        "    if x >= 90:\n",
        "        return \"A\"\n",
        "    elif x >= 80:\n",
        "        return \"B\"\n",
        "    elif x >= 70:\n",
        "        return \"C\"\n",
        "    elif x >= 60:\n",
        "        return \"D\"\n",
        "    else:\n",
        "        return \"F\"\n",
        "\n",
        "# apply the function\n",
        "student_df['Grade'] = student_df['Average'].apply(grade) # send the entire column with apply() function\n",
        "student_df"
      ],
      "execution_count": null,
      "outputs": [
        {
          "output_type": "execute_result",
          "data": {
            "text/html": [
              "<div>\n",
              "<style scoped>\n",
              "    .dataframe tbody tr th:only-of-type {\n",
              "        vertical-align: middle;\n",
              "    }\n",
              "\n",
              "    .dataframe tbody tr th {\n",
              "        vertical-align: top;\n",
              "    }\n",
              "\n",
              "    .dataframe thead th {\n",
              "        text-align: right;\n",
              "    }\n",
              "</style>\n",
              "<table border=\"1\" class=\"dataframe\">\n",
              "  <thead>\n",
              "    <tr style=\"text-align: right;\">\n",
              "      <th></th>\n",
              "      <th>Gender</th>\n",
              "      <th>DOB</th>\n",
              "      <th>Maths</th>\n",
              "      <th>Physics</th>\n",
              "      <th>Chemistry</th>\n",
              "      <th>English</th>\n",
              "      <th>Biology</th>\n",
              "      <th>Economics</th>\n",
              "      <th>History</th>\n",
              "      <th>Civics</th>\n",
              "      <th>Average</th>\n",
              "      <th>Grade</th>\n",
              "    </tr>\n",
              "    <tr>\n",
              "      <th>first_name</th>\n",
              "      <th></th>\n",
              "      <th></th>\n",
              "      <th></th>\n",
              "      <th></th>\n",
              "      <th></th>\n",
              "      <th></th>\n",
              "      <th></th>\n",
              "      <th></th>\n",
              "      <th></th>\n",
              "      <th></th>\n",
              "      <th></th>\n",
              "      <th></th>\n",
              "    </tr>\n",
              "  </thead>\n",
              "  <tbody>\n",
              "    <tr>\n",
              "      <th>John</th>\n",
              "      <td>M</td>\n",
              "      <td>05/04/1988</td>\n",
              "      <td>55</td>\n",
              "      <td>45</td>\n",
              "      <td>56.0</td>\n",
              "      <td>87</td>\n",
              "      <td>21</td>\n",
              "      <td>52</td>\n",
              "      <td>89</td>\n",
              "      <td>65</td>\n",
              "      <td>57.857143</td>\n",
              "      <td>F</td>\n",
              "    </tr>\n",
              "    <tr>\n",
              "      <th>Suresh</th>\n",
              "      <td>M</td>\n",
              "      <td>4/5/1987</td>\n",
              "      <td>75</td>\n",
              "      <td>55</td>\n",
              "      <td>0.0</td>\n",
              "      <td>64</td>\n",
              "      <td>90</td>\n",
              "      <td>61</td>\n",
              "      <td>58</td>\n",
              "      <td>2</td>\n",
              "      <td>57.571429</td>\n",
              "      <td>F</td>\n",
              "    </tr>\n",
              "    <tr>\n",
              "      <th>Ramesh</th>\n",
              "      <td>M</td>\n",
              "      <td>25/5/1989</td>\n",
              "      <td>25</td>\n",
              "      <td>54</td>\n",
              "      <td>89.0</td>\n",
              "      <td>76</td>\n",
              "      <td>95</td>\n",
              "      <td>87</td>\n",
              "      <td>56</td>\n",
              "      <td>74</td>\n",
              "      <td>68.857143</td>\n",
              "      <td>D</td>\n",
              "    </tr>\n",
              "    <tr>\n",
              "      <th>Jessica</th>\n",
              "      <td>F</td>\n",
              "      <td>12/8/1990</td>\n",
              "      <td>78</td>\n",
              "      <td>55</td>\n",
              "      <td>86.0</td>\n",
              "      <td>63</td>\n",
              "      <td>54</td>\n",
              "      <td>89</td>\n",
              "      <td>75</td>\n",
              "      <td>45</td>\n",
              "      <td>71.428571</td>\n",
              "      <td>C</td>\n",
              "    </tr>\n",
              "    <tr>\n",
              "      <th>Jennifer</th>\n",
              "      <td>F</td>\n",
              "      <td>2/9/1989</td>\n",
              "      <td>58</td>\n",
              "      <td>96</td>\n",
              "      <td>78.0</td>\n",
              "      <td>46</td>\n",
              "      <td>96</td>\n",
              "      <td>77</td>\n",
              "      <td>83</td>\n",
              "      <td>53</td>\n",
              "      <td>76.285714</td>\n",
              "      <td>C</td>\n",
              "    </tr>\n",
              "  </tbody>\n",
              "</table>\n",
              "</div>"
            ],
            "text/plain": [
              "           Gender         DOB  Maths  Physics  ...  History  Civics    Average  Grade\n",
              "first_name                                     ...                                   \n",
              "John            M  05/04/1988     55       45  ...       89      65  57.857143      F\n",
              "Suresh          M    4/5/1987     75       55  ...       58       2  57.571429      F\n",
              "Ramesh          M   25/5/1989     25       54  ...       56      74  68.857143      D\n",
              "Jessica         F   12/8/1990     78       55  ...       75      45  71.428571      C\n",
              "Jennifer        F    2/9/1989     58       96  ...       83      53  76.285714      C\n",
              "\n",
              "[5 rows x 12 columns]"
            ]
          },
          "metadata": {
            "tags": []
          },
          "execution_count": 215
        }
      ]
    }
  ]
}