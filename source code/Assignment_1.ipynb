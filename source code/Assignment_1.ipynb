{
  "nbformat": 4,
  "nbformat_minor": 0,
  "metadata": {
    "colab": {
      "name": "Assignment 1.ipynb",
      "provenance": [],
      "toc_visible": true
    },
    "kernelspec": {
      "name": "python3",
      "display_name": "Python 3"
    },
    "language_info": {
      "name": "python"
    }
  },
  "cells": [
    {
      "cell_type": "code",
      "metadata": {
        "id": "j4TgoCVI0VcX"
      },
      "source": [
        "# importing pandas library.\n",
        "import pandas as pd"
      ],
      "execution_count": null,
      "outputs": []
    },
    {
      "cell_type": "code",
      "metadata": {
        "id": "2oTbC4kV2t3n"
      },
      "source": [
        "# reading a 'csv file'.\n",
        "df = pd.read_csv('drive/MyDrive/Data mining/Datasets/marvel_characters_info.xls')\n",
        "\n",
        "# set the 'ID' column as an index of the dataset\n",
        "df.set_index('ID', inplace=True) # 'inplace=True' that means to modify the original dataset with the changes\n",
        "# without 'inplace=True' it will return a new dataframe\n",
        "df"
      ],
      "execution_count": null,
      "outputs": []
    },
    {
      "cell_type": "markdown",
      "metadata": {
        "id": "sFaiVn6vQPu3"
      },
      "source": [
        "# Commands for viewing data"
      ]
    },
    {
      "cell_type": "code",
      "metadata": {
        "id": "rxUZCDR_OJVP"
      },
      "source": [
        "df.head() # shows the first 5 rows in the dataset\n",
        "df.head(3) # we can specify this by setting an argument to the method\n",
        "# in this case it shows the first 3 rows"
      ],
      "execution_count": null,
      "outputs": []
    },
    {
      "cell_type": "code",
      "metadata": {
        "id": "9aD_ZwVaQFOk"
      },
      "source": [
        "df.tail() # shows the last 5 rows\n",
        "df.tail(7) # and its similler to the head method, we can specify by setting an argument"
      ],
      "execution_count": null,
      "outputs": []
    },
    {
      "cell_type": "code",
      "metadata": {
        "id": "EQR7PTkYThul"
      },
      "source": [
        "df.shape # return a simple tuple of (rows, columns)"
      ],
      "execution_count": null,
      "outputs": []
    },
    {
      "cell_type": "code",
      "metadata": {
        "id": "OW1z2pSDS2hW"
      },
      "source": [
        "df.info() # it shows more details about the dataset"
      ],
      "execution_count": null,
      "outputs": []
    },
    {
      "cell_type": "code",
      "metadata": {
        "id": "uyJSRbO5buiy"
      },
      "source": [
        "df.iloc[[3,4]] # searching for a rows by his index Whatever index type"
      ],
      "execution_count": null,
      "outputs": []
    },
    {
      "cell_type": "code",
      "metadata": {
        "id": "RQ_Hretixttz"
      },
      "source": [
        "# If we want to rename columns\n",
        "df.rename(columns = {'Race':'another_name'}, inplace=True)\n",
        "df.columns"
      ],
      "execution_count": null,
      "outputs": []
    },
    {
      "cell_type": "markdown",
      "metadata": {
        "id": "1Mn3Pd3XU3rk"
      },
      "source": [
        "# Dealing with duplicates data"
      ]
    },
    {
      "cell_type": "code",
      "metadata": {
        "id": "3nrWBy7nU_BO"
      },
      "source": [
        "df.drop_duplicates(inplace=True) # Remove duplicates if exist (found one duplicate)\n",
        "\n",
        "# Remove all duplicates (keep = false)\n",
        "df.drop_duplicates(inplace=True, keep=False) # That means if there 2 or more duplicates rows they will be removed\n",
        "\n",
        "df.shape"
      ],
      "execution_count": null,
      "outputs": []
    },
    {
      "cell_type": "markdown",
      "metadata": {
        "id": "GvloJlaZW5_u"
      },
      "source": [
        "# Handling the missing data"
      ]
    },
    {
      "cell_type": "code",
      "metadata": {
        "id": "xQpFIpelXUf4"
      },
      "source": [
        "df.isnull() # return a new data frame that shows the null value in the dataset \n",
        "df.isnull().sum() # return the count of null value in each column\n",
        "df.isnull().sum().sum() # return the count od alll null value in the data set"
      ],
      "execution_count": null,
      "outputs": []
    },
    {
      "cell_type": "code",
      "metadata": {
        "id": "2Iip8avzXIZl"
      },
      "source": [
        "# Remove row's that have missing data.\n",
        "df_temp1 = df.dropna() # drop all the rows that missing data\n",
        "df_temp1.isnull().sum()"
      ],
      "execution_count": null,
      "outputs": []
    },
    {
      "cell_type": "code",
      "metadata": {
        "id": "1Gz4PxWBqxJL"
      },
      "source": [
        "# Fill the missing data with a default value for example...\n",
        "df_temp2 = df.copy() # make a copy of the df\n",
        "\n",
        "Publisher = df_temp2['Publisher'] # reference to the column that has missing data\n",
        "Publisher.fillna('unknown', inplace=True) # fill the null value with 'unknown' word\n",
        "\n",
        "df_temp2['Weight'].fillna('unknown', inplace=True) # The direct way to fill\n",
        "\n",
        "df_temp2.isnull().sum()"
      ],
      "execution_count": null,
      "outputs": []
    }
  ]
}